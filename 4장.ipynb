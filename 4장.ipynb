{
  "nbformat": 4,
  "nbformat_minor": 0,
  "metadata": {
    "colab": {
      "provenance": [],
      "authorship_tag": "ABX9TyNTSFOWcEFXZjao/XAabOgv",
      "include_colab_link": true
    },
    "kernelspec": {
      "name": "python3",
      "display_name": "Python 3"
    },
    "language_info": {
      "name": "python"
    }
  },
  "cells": [
    {
      "cell_type": "markdown",
      "metadata": {
        "id": "view-in-github",
        "colab_type": "text"
      },
      "source": [
        "<a href=\"https://colab.research.google.com/github/JongeunKeum/doit-deeplearning/blob/main/4%EC%9E%A5.ipynb\" target=\"_parent\"><img src=\"https://colab.research.google.com/assets/colab-badge.svg\" alt=\"Open In Colab\"/></a>"
      ]
    },
    {
      "cell_type": "code",
      "execution_count": 1,
      "metadata": {
        "id": "gOzEWEDKhsZu"
      },
      "outputs": [],
      "source": [
        "from sklearn.datasets import load_breast_cancer\n",
        "cancer = load_breast_cancer()"
      ]
    },
    {
      "cell_type": "code",
      "source": [
        "print(cancer.data.shape, cancer.target.shape)"
      ],
      "metadata": {
        "colab": {
          "base_uri": "https://localhost:8080/"
        },
        "id": "YxNBtlqeI4Qk",
        "outputId": "0b4e4035-d8aa-45a1-ffaa-9f360fa3d721"
      },
      "execution_count": 2,
      "outputs": [
        {
          "output_type": "stream",
          "name": "stdout",
          "text": [
            "(569, 30) (569,)\n"
          ]
        }
      ]
    },
    {
      "cell_type": "code",
      "source": [
        "import matplotlib.pyplot as plt\n",
        "plt.boxplot(cancer.data)\n",
        "plt.xlabel('feature')\n",
        "plt.ylabel('value')\n",
        "plt.show()"
      ],
      "metadata": {
        "colab": {
          "base_uri": "https://localhost:8080/",
          "height": 279
        },
        "id": "iva9JnRcI7HY",
        "outputId": "c2c6f4ae-fb43-45b1-a41f-c13a7e28f725"
      },
      "execution_count": 3,
      "outputs": [
        {
          "output_type": "display_data",
          "data": {
            "text/plain": [
              "<Figure size 432x288 with 1 Axes>"
            ],
            "image/png": "[encoded data removed]"
          },
          "metadata": {
            "needs_background": "light"
          }
        }
      ]
    },
    {
      "cell_type": "code",
      "source": [
        "import numpy as np\n",
        "np.unique(cancer.target, return_counts=True)\n",
        "# 이진분류니까 target은 0 or 1\n",
        "# return_counts는 각 값 개수 -> 여기선 양성클래스가 더 많음. 편중된 데이터"
      ],
      "metadata": {
        "colab": {
          "base_uri": "https://localhost:8080/"
        },
        "id": "OsT_HfeNJfP7",
        "outputId": "c6f4e927-4666-423c-e233-91220238891e"
      },
      "execution_count": 4,
      "outputs": [
        {
          "output_type": "execute_result",
          "data": {
            "text/plain": [
              "(array([0, 1]), array([212, 357]))"
            ]
          },
          "metadata": {},
          "execution_count": 4
        }
      ]
    },
    {
      "cell_type": "code",
      "source": [
        "x = cancer.data\n",
        "y = cancer.target"
      ],
      "metadata": {
        "id": "kKMIt84RKNS5"
      },
      "execution_count": 5,
      "outputs": []
    },
    {
      "cell_type": "markdown",
      "source": [
        "### 훈련 세트와 테스트 세트 나누기"
      ],
      "metadata": {
        "id": "Lr0nCHKNLDj3"
      }
    },
    {
      "cell_type": "markdown",
      "source": [
        "# 로지스틱 회귀로 모델 만들기"
      ],
      "metadata": {
        "id": "3WFxDzE9GGzg"
      }
    },
    {
      "cell_type": "code",
      "source": [
        "from sklearn.model_selection import train_test_split"
      ],
      "metadata": {
        "id": "OWMY8JoDKeii"
      },
      "execution_count": 6,
      "outputs": []
    },
    {
      "cell_type": "code",
      "source": [
        "x_train, x_test, y_train, y_test = train_test_split(x, y, stratify=y, test_size=0.2, random_state=42)"
      ],
      "metadata": {
        "id": "FBH17bjALKNZ"
      },
      "execution_count": 7,
      "outputs": []
    },
    {
      "cell_type": "code",
      "source": [
        "print(x_train.shape, x_test.shape)"
      ],
      "metadata": {
        "colab": {
          "base_uri": "https://localhost:8080/"
        },
        "id": "TVNSB-6fLSHq",
        "outputId": "44c45ace-0b75-4b19-e43a-c2cb815cc59a"
      },
      "execution_count": 8,
      "outputs": [
        {
          "output_type": "stream",
          "name": "stdout",
          "text": [
            "(455, 30) (114, 30)\n"
          ]
        }
      ]
    },
    {
      "cell_type": "code",
      "source": [
        "np.unique(y_train, return_counts=True)"
      ],
      "metadata": {
        "colab": {
          "base_uri": "https://localhost:8080/"
        },
        "id": "0f7co9_QLW1j",
        "outputId": "a5947685-bfbe-4a80-8a77-7af7f319a034"
      },
      "execution_count": 9,
      "outputs": [
        {
          "output_type": "execute_result",
          "data": {
            "text/plain": [
              "(array([0, 1]), array([170, 285]))"
            ]
          },
          "metadata": {},
          "execution_count": 9
        }
      ]
    },
    {
      "cell_type": "code",
      "source": [
        "np.unique(y_test, return_counts=True)"
      ],
      "metadata": {
        "colab": {
          "base_uri": "https://localhost:8080/"
        },
        "id": "Cy0fHAK1O8yf",
        "outputId": "2584c9c0-9f72-4b9a-c6d0-16f206b6a0d6"
      },
      "execution_count": 10,
      "outputs": [
        {
          "output_type": "execute_result",
          "data": {
            "text/plain": [
              "(array([0, 1]), array([42, 72]))"
            ]
          },
          "metadata": {},
          "execution_count": 10
        }
      ]
    },
    {
      "cell_type": "code",
      "source": [
        "class LogisticNeuron:\n",
        "\n",
        "  def __init__(self):\n",
        "    self.w = None\n",
        "    self.b = None\n",
        "\n",
        "  def forpass(self, x):\n",
        "    z = np.sum(x * self.w) + self.b   # 직선 방정식 계산, x*self.w -> 벡터 각 위치값끼리 곱\n",
        "    return z\n",
        "\n",
        "  def backprop(self, x, err):\n",
        "    w_grad = x * err\n",
        "    b_grad = 1 * err\n",
        "    return w_grad, b_grad\n",
        "\n",
        "  def fit(self, x, y, epochs=100):\n",
        "    self.w = np.ones(x.shape[1])      # 가중치 초기화, x 열의 개수만큼 1로 초기화\n",
        "    self.b = 0                        # 절편 초기화\n",
        "    for i in range(epochs):           # epochs만큼 반복\n",
        "      for x_i, y_i in zip(x, y):      # 모든 샘플에 대해 반복\n",
        "        z = self.forpass(x_i)         # 정방향 계산\n",
        "        a = self.activation(z)        # 활성화 함수 적용(시그모이드)\n",
        "        err = -(y_i - a)              # 오차 계산\n",
        "        w_grad, b_grad = self.backprop(x_i, err)    # 역방향 계산\n",
        "        self.w -= w_grad              # 가중치 업데이트\n",
        "        self.b -= b_grad              # 절편 업데이트\n",
        "  \n",
        "  def activation(self, z):\n",
        "    a = 1 / (1 + np.exp(-z))      # 시그모이드 계산\n",
        "    return a\n",
        "\n",
        "  def predict(self, x):\n",
        "    z = [self.forpass(x_i) for x_i in x]    # 선형 함수 적용\n",
        "    a = self.activation(np.array(z))        # 활성화 함수 적용\n",
        "    return a > 0.5                          # 계단 함수 적용"
      ],
      "metadata": {
        "id": "fYXga2QAPAqA"
      },
      "execution_count": 11,
      "outputs": []
    },
    {
      "cell_type": "code",
      "source": [
        "neuron = LogisticNeuron()\n",
        "neuron.fit(x_train, y_train)"
      ],
      "metadata": {
        "colab": {
          "base_uri": "https://localhost:8080/"
        },
        "id": "ppHr4OVXPu3f",
        "outputId": "aa9468bb-cf24-4e6a-df4d-b9c2cf598d6e"
      },
      "execution_count": 12,
      "outputs": [
        {
          "output_type": "stream",
          "name": "stderr",
          "text": [
            "<ipython-input-11-0bd60d22ba43>:29: RuntimeWarning: overflow encountered in exp\n",
            "  a = 1 / (1 + np.exp(-z))      # 시그모이드 계산\n"
          ]
        }
      ]
    },
    {
      "cell_type": "code",
      "source": [
        "np.mean(neuron.predict(x_test) == y_test)"
      ],
      "metadata": {
        "colab": {
          "base_uri": "https://localhost:8080/"
        },
        "id": "7f_4lbnJReW8",
        "outputId": "75a45796-0d38-4137-90d1-23f0f262f50b"
      },
      "execution_count": 13,
      "outputs": [
        {
          "output_type": "stream",
          "name": "stderr",
          "text": [
            "<ipython-input-11-0bd60d22ba43>:29: RuntimeWarning: overflow encountered in exp\n",
            "  a = 1 / (1 + np.exp(-z))      # 시그모이드 계산\n"
          ]
        },
        {
          "output_type": "execute_result",
          "data": {
            "text/plain": [
              "0.8245614035087719"
            ]
          },
          "metadata": {},
          "execution_count": 13
        }
      ]
    },
    {
      "cell_type": "markdown",
      "source": [
        "# 단일층 신경망 만들기"
      ],
      "metadata": {
        "id": "ClOb3B4MGLs-"
      }
    },
    {
      "cell_type": "code",
      "source": [
        "class SingleLayer:\n",
        "\n",
        "  def __init__(self):\n",
        "    self.w = None\n",
        "    self.b = None\n",
        "    self.losses = []    # 손실값을 저장하는 리스트\n",
        "\n",
        "  def forpass(self, x):\n",
        "    z = np.sum(x * self.w) + self.b   # 직선 방정식 계산\n",
        "    return z\n",
        "\n",
        "  def backprop(self, x, err):\n",
        "    w_grad = x * err\n",
        "    b_grad = 1 * err\n",
        "    return w_grad, b_grad\n",
        "\n",
        "  def activation(self, z):\n",
        "    z = np.clip(z, -100, None)    # 안전한 np.exp() 계산을 위해\n",
        "    a = 1 / (1 + np.exp(-z))      # 시그모이드 계산\n",
        "    return a\n",
        "\n",
        "  def fit(self, x, y, epochs=100):\n",
        "    self.w = np.ones(x.shape[1])\n",
        "    self.b = 0\n",
        "    for i in range(epochs):\n",
        "      loss = 0\n",
        "      indexes = np.random.permutation(np.arange(len(x)))    # 인덱스 섞기\n",
        "      for i in indexes:                       # 모든 샘플에 대해 반복\n",
        "        z = self.forpass(x[i])                # 정방향 계산\n",
        "        a = self.activation(z)                # 활성화 함수 적용\n",
        "        err = -(y[i] - a)                     # 오차 계산\n",
        "        w_grad, b_grad = self.backprop(x[i], err)   # 역방향 계산\n",
        "        self.w -= w_grad                      # 가중치 업데이트\n",
        "        self.b -= b_grad                      # 절편 업데이트\n",
        "        a = np.clip(a, 1e-10, 1-1e-10)        # 안전한 로그 계산을 위해 클리핑을 한 후 손실 누적\n",
        "        loss += -(y[i] * np.log(a) + (1 - y[i]) * np.log(1-a))\n",
        "      self.losses.append(loss/len(y))         # 에포크마다 평균 손실 저장\n",
        "\n",
        "  def predict(self, x):\n",
        "    z = [self.forpass(x_i) for x_i in x]    # 정방향 계산\n",
        "    return np.array(z) > 0                  # 스텝 함수 적용\n",
        "\n",
        "  def score(self, x, y):\n",
        "    return np.mean(self.predict(x) == y)"
      ],
      "metadata": {
        "id": "umagVqkrRqAN"
      },
      "execution_count": 14,
      "outputs": []
    },
    {
      "cell_type": "code",
      "source": [
        "layer = SingleLayer()\n",
        "layer.fit(x_train, y_train)\n",
        "layer.score(x_test, y_test)"
      ],
      "metadata": {
        "colab": {
          "base_uri": "https://localhost:8080/"
        },
        "id": "wc81zxdIIamD",
        "outputId": "86dcbd78-255f-46c8-9222-3e63cd38d121"
      },
      "execution_count": 15,
      "outputs": [
        {
          "output_type": "execute_result",
          "data": {
            "text/plain": [
              "0.9298245614035088"
            ]
          },
          "metadata": {},
          "execution_count": 15
        }
      ]
    },
    {
      "cell_type": "code",
      "source": [
        "plt.plot(layer.losses)\n",
        "plt.xlabel('epoch')\n",
        "plt.ylabel('loss')\n",
        "plt.show()"
      ],
      "metadata": {
        "colab": {
          "base_uri": "https://localhost:8080/",
          "height": 281
        },
        "id": "D-gGWNu1Ifzz",
        "outputId": "4bc66c51-a414-4b14-b853-da883ae4b431"
      },
      "execution_count": 16,
      "outputs": [
        {
          "output_type": "display_data",
          "data": {
            "text/plain": [
              "<Figure size 432x288 with 1 Axes>"
            ],
            "image/png": "[encoded data removed]"
          },
          "metadata": {
            "needs_background": "light"
          }
        }
      ]
    },
    {
      "cell_type": "markdown",
      "source": [
        "# 사이킷런으로 로지스틱 회귀 수행"
      ],
      "metadata": {
        "id": "50Px6GLKJBpm"
      }
    },
    {
      "cell_type": "code",
      "source": [
        "from sklearn.linear_model import SGDClassifier\n",
        "sgd = SGDClassifier(loss='log', max_iter=100, tol=1e-3, random_state=42)"
      ],
      "metadata": {
        "id": "GrHvncHUIkss"
      },
      "execution_count": 18,
      "outputs": []
    },
    {
      "cell_type": "code",
      "source": [
        "sgd.fit(x_train, y_train)\n",
        "sgd.score(x_test, y_test)"
      ],
      "metadata": {
        "colab": {
          "base_uri": "https://localhost:8080/"
        },
        "id": "5dNKf2faJK4_",
        "outputId": "e3fe0c75-c6ba-40cd-fa2f-56e859c0f5e6"
      },
      "execution_count": 19,
      "outputs": [
        {
          "output_type": "stream",
          "name": "stderr",
          "text": [
            "/usr/local/lib/python3.9/dist-packages/sklearn/linear_model/_stochastic_gradient.py:163: FutureWarning: The loss 'log' was deprecated in v1.1 and will be removed in version 1.3. Use `loss='log_loss'` which is equivalent.\n",
            "  warnings.warn(\n"
          ]
        },
        {
          "output_type": "execute_result",
          "data": {
            "text/plain": [
              "0.8333333333333334"
            ]
          },
          "metadata": {},
          "execution_count": 19
        }
      ]
    },
    {
      "cell_type": "code",
      "source": [
        "sgd.predict(x_test[0:10])"
      ],
      "metadata": {
        "colab": {
          "base_uri": "https://localhost:8080/"
        },
        "id": "TGRxlxy4JUHZ",
        "outputId": "21330d27-ef8c-4d08-d569-2cabc6f190e7"
      },
      "execution_count": 20,
      "outputs": [
        {
          "output_type": "execute_result",
          "data": {
            "text/plain": [
              "array([0, 1, 0, 0, 0, 0, 1, 0, 0, 0])"
            ]
          },
          "metadata": {},
          "execution_count": 20
        }
      ]
    },
    {
      "cell_type": "code",
      "source": [],
      "metadata": {
        "id": "qWrNZTVCJWn5"
      },
      "execution_count": null,
      "outputs": []
    }
  ]
}